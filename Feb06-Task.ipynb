{
 "cells": [
  {
   "cell_type": "markdown",
   "id": "7b60e605-8d09-4351-85cc-ce74b204e7ed",
   "metadata": {},
   "source": [
    "Que 1:Create a function which will take a list as an argument and return the product of all the numbers\n",
    "after creating a flat list.\n",
    "Use the below-given list as an argument for your function.\n",
    "\n",
    "list1 = [1,2,3,4, [44,55,66, True], False, (34,56,78,89,34), {1,2,3,3,2,1}, {1:34, \"key2\": [55, 67, 78, 89], 4: (45,\n",
    "22, 61, 34)}, [56, 'data science'], 'Machine Learning']\n",
    "\n",
    "Note: you must extract numeric keys and values of the dictionary also."
   ]
  },
  {
   "cell_type": "code",
   "execution_count": 2,
   "id": "96aef67c-0daa-4ba3-b172-17b3926cc204",
   "metadata": {},
   "outputs": [],
   "source": [
    "list1 = [1,2,3,4, [44,55,66, True], False, (34,56,78,89,34), {1,2,3,3,2,1}, {1:34, \"key2\": [55, 67, 78, 89], 4: (45,\n",
    "22, 61, 34)}, [56, 'data science'], 'Machine Learning']"
   ]
  },
  {
   "cell_type": "code",
   "execution_count": 34,
   "id": "c8c00fd0-11aa-4ff3-823d-a98389394d3b",
   "metadata": {},
   "outputs": [
    {
     "name": "stdout",
     "output_type": "stream",
     "text": [
      "The flatlist is: [1, 2, 3, 4, 44, 55, 66, 34, 56, 78, 89, 34, 1, 2, 3, 1, 34, 55, 67, 78, 89, 4, 45, 22, 61, 34, 56]\n",
      "\n",
      "The product of the elements of flatlist is: 4134711838987085478833841242112000\n"
     ]
    }
   ],
   "source": [
    "import math\n",
    "def product(n):\n",
    "\n",
    "    l = []    # l is the flatlist\n",
    "    product=1\n",
    "    \n",
    "    for i in list1:\n",
    "    \n",
    "        if type(i)==list or type(i)==tuple or type(i)==set: # check if element is list,tuple and set \n",
    "            for j in i: # iterate over each nested list \n",
    "                if type(j)==int: # check if element is int\n",
    "                    l.append(j)\n",
    "                    \n",
    "        elif type(i)==dict: # check if element is dict\n",
    "            \n",
    "            # iterate over each nested dict \n",
    "            for k in i.items():\n",
    "                if type(k[0])==int:\n",
    "                    l.append(k[0])\n",
    "           \n",
    "                if type(k[1])==tuple or type(k[1])==list:\n",
    "                    for v in k[1]:\n",
    "                        if type(v)==int:\n",
    "                            l.append(v)\n",
    "                else:\n",
    "                    if type(k[1])==int:\n",
    "                        l.append(k[1])\n",
    "        else:\n",
    "            if type(i)==int:\n",
    "                l.append(i)\n",
    "    print(\"The flatlist is:\", l)\n",
    "    print()\n",
    "    \n",
    "    result=math.prod(l)\n",
    "    \n",
    "    return result\n",
    "\n",
    "print(\"The product of the elements of flatlist is:\",product(list1))"
   ]
  },
  {
   "cell_type": "code",
   "execution_count": null,
   "id": "7d18175a-16d0-4916-a265-c933ae937d60",
   "metadata": {},
   "outputs": [],
   "source": []
  },
  {
   "cell_type": "markdown",
   "id": "3dd7f66a-0edc-4031-b7a8-7d18a29d56e4",
   "metadata": {},
   "source": [
    "Que 2: Write a python program for encrypting a message sent to you by your friend. The logic of encryption\n",
    "should be such that, for a the output should be z. For b, the output should be y. For c, the output should\n",
    "be x respectively. Also, the whitespace should be replaced with a dollar sign. Keep the punctuation\n",
    "marks unchanged.\n",
    "\n",
    "\n",
    "Input Sentence: I want to become a Data Scientist.\n",
    "\n",
    "\n",
    "Encrypt the above input sentence using the program you just created.\n",
    "\n",
    "\n",
    "Note: Convert the given input sentence into lowercase before encrypting. The final output should be\n",
    "lowercase."
   ]
  },
  {
   "cell_type": "code",
   "execution_count": 37,
   "id": "1c373ea9-21ce-4ee1-8925-da90850931e7",
   "metadata": {},
   "outputs": [],
   "source": []
  },
  {
   "cell_type": "code",
   "execution_count": null,
   "id": "4f64be52-2595-4487-a4cb-acbf04ff47ef",
   "metadata": {},
   "outputs": [],
   "source": []
  },
  {
   "cell_type": "code",
   "execution_count": 63,
   "id": "b36980ba-4334-4f68-ab34-be4c8e8f8293",
   "metadata": {},
   "outputs": [
    {
     "name": "stdout",
     "output_type": "stream",
     "text": [
      "i$damg$gl$beclme$a$daga$hciemgihg\n"
     ]
    }
   ],
   "source": [
    "import re\n",
    "sentence=\"I want to become a Data scientist\"\n",
    "sentence=sentence.lower()\n",
    "dict={\"a\":\"z\",\"b\":\"y\",\"c\":\"x\",\"d\":\"w\",\"e\":\"v\",\"f\":\"u\",\"g\":\"t\",\"h\":\"s\",\n",
    "      \"i\":\"r\",\"j\":\"q\",\"k\":\"p\",\"l\":\"o\",\"m\":\"n\",\"n\":\"m\",\"o\":\"l\",\"p\":\"k\",\n",
    "      \"q\":\"j\",\"r\":\"i\",\"s\":\"h\",\"t\":\"g\",\"u\":\"f\",\"v\":\"e\",\"w\":\"d\",\"x\":\"c\",\n",
    "      \"y\":\"b\",\"z\":\"a\"}\n",
    "\n",
    "for j in sentence:\n",
    "    sentence=sentence.replace(r\" \",\"$\")\n",
    "for i in dict :\n",
    "    sentence=sentence.replace(i,dict[i])\n",
    "print(sentence)"
   ]
  }
 ],
 "metadata": {
  "kernelspec": {
   "display_name": "Python 3 (ipykernel)",
   "language": "python",
   "name": "python3"
  },
  "language_info": {
   "codemirror_mode": {
    "name": "ipython",
    "version": 3
   },
   "file_extension": ".py",
   "mimetype": "text/x-python",
   "name": "python",
   "nbconvert_exporter": "python",
   "pygments_lexer": "ipython3",
   "version": "3.10.8"
  }
 },
 "nbformat": 4,
 "nbformat_minor": 5
}
