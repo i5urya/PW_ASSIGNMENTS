{
 "cells": [
  {
   "cell_type": "markdown",
   "id": "71a1273e-9055-4e51-9caa-65a31b45c5e4",
   "metadata": {},
   "source": [
    "Que 1: You are writing code for a company. The requirement of the company is that you create a python\n",
    "function that will check whether the password entered by the user is correct or not. The function should\n",
    "take the password as input and return the string “Valid Password” if the entered password follows the\n",
    "below-given password guidelines else it should return “Invalid Password”.\n",
    "\n",
    "Note: 1. The Password should contain at least two uppercase letters and at least two lowercase letters.\n",
    "\n",
    "2. The Password should contain at least a number and three special characters.\n",
    "\n",
    "3. The length of the password should be 10 characters long."
   ]
  },
  {
   "cell_type": "code",
   "execution_count": 12,
   "id": "8b57d1b3-fb99-40f1-8a6c-038cfc07b74f",
   "metadata": {},
   "outputs": [
    {
     "name": "stdin",
     "output_type": "stream",
     "text": [
      " ENig2#$%hj\n"
     ]
    },
    {
     "name": "stdout",
     "output_type": "stream",
     "text": [
      "Input: \" ENig2#$%hj \"\n",
      "Output:  True\n"
     ]
    }
   ],
   "source": [
    "import string\n",
    "\n",
    "def checkPassword(inputStr):\n",
    "    if not len(inputStr):\n",
    "        print(\"Empty string was entered!\")\n",
    "        exit(0)\n",
    "\n",
    "    else:\n",
    "        print(\"Input:\",\"\\\"\",inputStr,\"\\\"\")\n",
    "\n",
    "    if len(inputStr) < 10 or len(inputStr) > 10:\n",
    "        return False\n",
    "\n",
    "    countLetters = 0\n",
    "    countDigits = 0\n",
    "    countSpec = 0\n",
    "    countWS = 0\n",
    "\n",
    "    for i in inputStr:\n",
    "        if i in string.ascii_uppercase or i in string.ascii_lowercase:\n",
    "             countLetters += 1\n",
    "        if i in string.digits:\n",
    "            countDigits += 1\n",
    "        if i in string.punctuation:\n",
    "            countSpec += 1\n",
    "        if i in string.whitespace:\n",
    "            countWS += 1\n",
    "\n",
    "    if (countLetters<2):\n",
    "        return False\n",
    "    elif not countDigits:\n",
    "        return False\n",
    "    elif (countSpec<3):\n",
    "        return False\n",
    "    elif countWS:\n",
    "        return False\n",
    "    else:\n",
    "        return True\n",
    "\n",
    "\n",
    "print(\"Output: \",checkPassword(input()))"
   ]
  },
  {
   "cell_type": "markdown",
   "id": "035600c8-27b5-46f8-b9d0-c45a3a7d1b28",
   "metadata": {},
   "source": [
    "Que 2: Solve the below-given questions using at least one of the following:\n",
    "    \n",
    "1. Lambda function\n",
    "\n",
    "2. Filter function\n",
    "\n",
    "3. Zap function\n",
    "\n",
    "4. List Comprehension\n",
    "\n",
    "    Check if the string starts with a particular letter\n",
    "    \n",
    "    Check if the string is numeric\n",
    "    \n",
    "    Sort a list of tuples having fruit names and their quantity. [(\"mango\",99),(\"orange\",80), (\"grapes\", 1000)\n",
    "    \n",
    "    Find the squares of numbers from 1 to 10\n",
    "    \n",
    "    Find the cube root of numbers from 1 to 10\n",
    "    \n",
    "    Check if a given number is even\n",
    "    \n",
    "    Filter odd numbers from the given list.[1,2,3,4,5,6,7,8,9,10]\n",
    "\n",
    "    Sort a list of integers into positive and negative integers lists.[1,2,3,4,5,6,-1,-2,-3,-4,-5,0]"
   ]
  },
  {
   "cell_type": "code",
   "execution_count": 13,
   "id": "ae4da6d4-2764-44ad-b3b2-929e999695de",
   "metadata": {},
   "outputs": [
    {
     "name": "stdout",
     "output_type": "stream",
     "text": [
      "True\n"
     ]
    }
   ],
   "source": [
    "#Check if the string starts with a particular letter\n",
    "starts_with = lambda x: True if x.startswith('P') else False\n",
    "print(starts_with('Python'))"
   ]
  },
  {
   "cell_type": "code",
   "execution_count": 14,
   "id": "4e8ec85c-d4fa-4647-a27d-b986c5731cad",
   "metadata": {},
   "outputs": [
    {
     "name": "stdout",
     "output_type": "stream",
     "text": [
      "False\n"
     ]
    }
   ],
   "source": [
    "# Check if the string is numeric\n",
    "a = \"1.5\"\n",
    "\n",
    "print(a.isnumeric())"
   ]
  },
  {
   "cell_type": "code",
   "execution_count": 21,
   "id": "9efc16c9-9864-422c-ad81-64615aa9f36c",
   "metadata": {
    "tags": []
   },
   "outputs": [
    {
     "data": {
      "text/plain": [
       "[('grapes', 1000), ('mango', 99), ('orange', 80)]"
      ]
     },
     "execution_count": 21,
     "metadata": {},
     "output_type": "execute_result"
    }
   ],
   "source": [
    "#Sort a list of tuples having fruit names and their quantity. [(\"mango\",99),(\"orange\",80), (\"grapes\", 1000)\n",
    "list1=[(\"mango\",99),(\"orange\",80), (\"grapes\", 1000)]\n",
    "list1.sort()\n",
    "list1"
   ]
  },
  {
   "cell_type": "code",
   "execution_count": 22,
   "id": "61e19c92-0eba-4834-bd41-17c3086b9c87",
   "metadata": {},
   "outputs": [
    {
     "name": "stdout",
     "output_type": "stream",
     "text": [
      "[1, 4, 9, 16, 25]\n"
     ]
    }
   ],
   "source": [
    "#Find the square root of numbers from 1 to 10\n",
    "numbers = [1, 2, 3, 4, 5]\n",
    "\n",
    "squares = list(map(lambda number: number**2, numbers))\n",
    "\n",
    "print(squares)"
   ]
  },
  {
   "cell_type": "code",
   "execution_count": 19,
   "id": "ab393888-338e-483f-aa9b-a85eefc5d483",
   "metadata": {},
   "outputs": [
    {
     "name": "stdout",
     "output_type": "stream",
     "text": [
      "[1, 8, 27, 64, 125]\n"
     ]
    }
   ],
   "source": [
    "#Find the cube root of numbers from 1 to 10\n",
    "numbers = [1, 2, 3, 4, 5]\n",
    "\n",
    "squares = list(map(lambda number: number**3, numbers))\n",
    "\n",
    "print(squares)"
   ]
  },
  {
   "cell_type": "code",
   "execution_count": 23,
   "id": "090852e7-a84d-4773-94a7-e13878591427",
   "metadata": {},
   "outputs": [
    {
     "name": "stdout",
     "output_type": "stream",
     "text": [
      "[2, 4]\n"
     ]
    }
   ],
   "source": [
    "#Check if a given number is even\n",
    "lis1 = [1, 2, 3, 4, 5]\n",
    "def is_even(x): return x % 2 == 0\n",
    "lis2 = list(filter(is_even, lis1))\n",
    "print(lis2)"
   ]
  },
  {
   "cell_type": "code",
   "execution_count": 24,
   "id": "711be081-68c9-4b11-ad70-37b9934e9ddf",
   "metadata": {},
   "outputs": [
    {
     "name": "stdout",
     "output_type": "stream",
     "text": [
      "[1, 3, 5, 7, 9]\n"
     ]
    }
   ],
   "source": [
    "#Filter odd numbers from the given list.[1,2,3,4,5,6,7,8,9,10]\n",
    "lis1 =[1,2,3,4,5,6,7,8,9,10]\n",
    "def is_odd(x): return x % 2 != 0\n",
    "lis2 = list(filter(is_odd, lis1))\n",
    "print(lis2)"
   ]
  },
  {
   "cell_type": "code",
   "execution_count": 27,
   "id": "8431dc6a-99c7-4d5e-b2d9-c1c23538f061",
   "metadata": {},
   "outputs": [
    {
     "data": {
      "text/plain": [
       "[-5, -4, -3, -2, -1, 0, 1, 2, 3, 4, 5, 6]"
      ]
     },
     "execution_count": 27,
     "metadata": {},
     "output_type": "execute_result"
    }
   ],
   "source": [
    "#Sort a list of integers into positive and negative integers lists.[1,2,3,4,5,6,-1,-2,-3,-4,-5,0]\n",
    "list1=[1,2,3,4,5,6,-1,-2,-3,-4,-5,0]\n",
    "list1.sort()\n",
    "list1"
   ]
  }
 ],
 "metadata": {
  "kernelspec": {
   "display_name": "Python 3 (ipykernel)",
   "language": "python",
   "name": "python3"
  },
  "language_info": {
   "codemirror_mode": {
    "name": "ipython",
    "version": 3
   },
   "file_extension": ".py",
   "mimetype": "text/x-python",
   "name": "python",
   "nbconvert_exporter": "python",
   "pygments_lexer": "ipython3",
   "version": "3.10.8"
  }
 },
 "nbformat": 4,
 "nbformat_minor": 5
}
