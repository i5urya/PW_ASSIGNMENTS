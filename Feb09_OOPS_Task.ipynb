{
 "cells": [
  {
   "cell_type": "markdown",
   "id": "9e04afcf-5fdb-4fab-a4ef-2ffab0d6f6e7",
   "metadata": {},
   "source": [
    "Que 1: Create a vehicle class with an init method having instance variables as name_of_vehicle, max_speed\n",
    "and average_of_vehicle."
   ]
  },
  {
   "cell_type": "code",
   "execution_count": 17,
   "id": "9fa50e21-10a0-45ea-906a-6c3e75bf174b",
   "metadata": {},
   "outputs": [],
   "source": [
    "class vehicle:\n",
    "    def __init__(self,name_of_vehicle,max_speed,average_of_vehicle):\n",
    "        self.name_of_vehicle=name_of_vehicle\n",
    "        self.max_speed=max_speed\n",
    "        self.average_of_vehicle=average_of_vehicle"
   ]
  },
  {
   "cell_type": "code",
   "execution_count": 2,
   "id": "4843b444-827d-442b-a6e9-e1fc1d29438a",
   "metadata": {},
   "outputs": [],
   "source": [
    "obj_veh=vehicle(\"Maruti Suzuki\",1200,60)"
   ]
  },
  {
   "cell_type": "code",
   "execution_count": 3,
   "id": "a0d0dc09-a046-4694-a7ed-468d277232ac",
   "metadata": {},
   "outputs": [
    {
     "data": {
      "text/plain": [
       "'Maruti Suzuki'"
      ]
     },
     "execution_count": 3,
     "metadata": {},
     "output_type": "execute_result"
    }
   ],
   "source": [
    "obj_veh.name_of_vehicle"
   ]
  },
  {
   "cell_type": "code",
   "execution_count": 4,
   "id": "83c874c5-7d73-4195-bcba-4e18d0bab1b1",
   "metadata": {},
   "outputs": [
    {
     "data": {
      "text/plain": [
       "1200"
      ]
     },
     "execution_count": 4,
     "metadata": {},
     "output_type": "execute_result"
    }
   ],
   "source": [
    "obj_veh.max_speed"
   ]
  },
  {
   "cell_type": "code",
   "execution_count": 5,
   "id": "b965b955-b21c-4ef1-9c65-92d5d027611a",
   "metadata": {},
   "outputs": [
    {
     "data": {
      "text/plain": [
       "60"
      ]
     },
     "execution_count": 5,
     "metadata": {},
     "output_type": "execute_result"
    }
   ],
   "source": [
    "obj_veh.average_of_vehicle"
   ]
  },
  {
   "cell_type": "markdown",
   "id": "d53108f6-8a86-4799-8df6-5a0793adf4cc",
   "metadata": {},
   "source": [
    "Que 2: Create a child class car from the vehicle class created in Que 1, which will inherit the vehicle class.\n",
    "Create a method named seating_capacity which takes capacity as an argument and returns the name of\n",
    "the vehicle and its seating capacity."
   ]
  },
  {
   "cell_type": "code",
   "execution_count": 21,
   "id": "5bd1fe6a-6f1e-4706-9806-21c1ee0808e4",
   "metadata": {},
   "outputs": [],
   "source": [
    "class vehicle:\n",
    "    def __init__(self,name_of_vehicle,max_speed,average_of_vehicle):\n",
    "        self.name_of_vehicle=name_of_vehicle\n",
    "        self.max_speed=max_speed\n",
    "        self.average_of_vehicle=average_of_vehicle\n",
    "        \n",
    "    def seating_capacity(self,capacity):\n",
    "        return f\"The capacity of the {self.name_of_vehicle} is {capacity} passengers\""
   ]
  },
  {
   "cell_type": "code",
   "execution_count": 22,
   "id": "73aeafe6-75f3-41df-a9df-808725e124c3",
   "metadata": {},
   "outputs": [],
   "source": [
    "class car(vehicle):\n",
    "    def seating_capacity(self,capacity):\n",
    "        self.capacity=capacity\n",
    "        return super().seating_capacity(5)"
   ]
  },
  {
   "cell_type": "code",
   "execution_count": 25,
   "id": "1f9988d7-f788-454e-9ff1-ccf998db605b",
   "metadata": {},
   "outputs": [],
   "source": [
    "car_obj=car(\"Maruti Suzuki\",1400,50)"
   ]
  },
  {
   "cell_type": "code",
   "execution_count": 26,
   "id": "33f49174-3c20-4a2b-a4e6-442690951dd8",
   "metadata": {},
   "outputs": [
    {
     "data": {
      "text/plain": [
       "'The capacity of the Maruti Suzuki is 5 passengers'"
      ]
     },
     "execution_count": 26,
     "metadata": {},
     "output_type": "execute_result"
    }
   ],
   "source": [
    "car_obj.seating_capacity(4)"
   ]
  },
  {
   "cell_type": "markdown",
   "id": "c0fac4b0-ab5b-4a67-af88-6cbbe2f41c78",
   "metadata": {},
   "source": [
    "Que 3: What is multiple inheritance? Write a python code to demonstrate multiple inheritance.\n",
    "\n",
    "Ans: When a class is derived from more than one base class it is called multiple Inheritance. The derived class inherits all the features of the base case."
   ]
  },
  {
   "cell_type": "code",
   "execution_count": 27,
   "id": "1b5a3cc0-7c82-4a46-85bb-bc638b0fdccb",
   "metadata": {},
   "outputs": [],
   "source": [
    "class class1:                        #One class\n",
    "    def test1(self):\n",
    "        print(\"This is class1\")"
   ]
  },
  {
   "cell_type": "code",
   "execution_count": 28,
   "id": "62ae0acc-a8fe-4a7a-a0e3-e99130f3c26a",
   "metadata": {},
   "outputs": [],
   "source": [
    "class class2:                        #Another class\n",
    "    def test2(self):\n",
    "        print(\"This is class2\")"
   ]
  },
  {
   "cell_type": "code",
   "execution_count": 29,
   "id": "ffd292f4-cbe7-4e96-8faf-5e2fb19b071f",
   "metadata": {},
   "outputs": [],
   "source": [
    "class class3(class1,class2):          #Third class inherit both class\n",
    "    pass"
   ]
  },
  {
   "cell_type": "code",
   "execution_count": 30,
   "id": "b6a85bb1-4a58-4126-ae3e-5d942caa94f9",
   "metadata": {},
   "outputs": [],
   "source": [
    "obj3=class3()"
   ]
  },
  {
   "cell_type": "code",
   "execution_count": 31,
   "id": "4a15f8ee-f5c3-4330-8cad-51a3df377bfe",
   "metadata": {},
   "outputs": [
    {
     "name": "stdout",
     "output_type": "stream",
     "text": [
      "This is class1\n"
     ]
    }
   ],
   "source": [
    "obj3.test1()   #Can access method of class1"
   ]
  },
  {
   "cell_type": "code",
   "execution_count": 32,
   "id": "9cc8affa-3aad-4a2d-9509-58994b6f1df1",
   "metadata": {},
   "outputs": [
    {
     "name": "stdout",
     "output_type": "stream",
     "text": [
      "This is class2\n"
     ]
    }
   ],
   "source": [
    "obj3.test2()   #Can access method of class2"
   ]
  },
  {
   "cell_type": "markdown",
   "id": "29929913-7da5-41c6-b22c-b215938c00d6",
   "metadata": {},
   "source": [
    "Que 4: What are getter and setter in python? Create a class and create a getter and a setter method in this\n",
    "class.\n",
    "\n",
    "Ans:  \n",
    "Getter: A method that allows you to access an attribute in a given class. \n",
    "\n",
    "Setter: A method that allows you to set or mutate the value of an attribute in a class."
   ]
  },
  {
   "cell_type": "code",
   "execution_count": 33,
   "id": "afadd9de-4210-4d1b-8838-68ee2ff720dc",
   "metadata": {},
   "outputs": [],
   "source": [
    "class car:\n",
    "    def __init__(self,year,make,model,speed):   #constructor\n",
    "        self.__year=year      \n",
    "        self.__make=make           #Here all the variable are private (__X)\n",
    "        self.__model=model\n",
    "        self.__speed=0\n",
    "        \n",
    "    def set_speed(self,speed):\n",
    "        self.__speed=0 if speed<0 else speed\n",
    "        \n",
    "    def get_speed(self):\n",
    "        return self.__speed"
   ]
  },
  {
   "cell_type": "code",
   "execution_count": 34,
   "id": "5da515d8-5d94-49a1-839a-17052b9a9074",
   "metadata": {},
   "outputs": [],
   "source": [
    "obj_car=car(2002,\"Farrari\",\"Pickup\",1200)"
   ]
  },
  {
   "cell_type": "code",
   "execution_count": 35,
   "id": "fe9df391-99ac-45ba-8c8d-81519d40951a",
   "metadata": {},
   "outputs": [],
   "source": [
    "obj_car.set_speed(120)"
   ]
  },
  {
   "cell_type": "code",
   "execution_count": 36,
   "id": "d08d9607-5dc8-4e5d-8ac6-09125b210f28",
   "metadata": {},
   "outputs": [
    {
     "data": {
      "text/plain": [
       "120"
      ]
     },
     "execution_count": 36,
     "metadata": {},
     "output_type": "execute_result"
    }
   ],
   "source": [
    "obj_car.get_speed()"
   ]
  },
  {
   "cell_type": "markdown",
   "id": "54ffd682-dffb-425e-9354-dadcc134b54a",
   "metadata": {},
   "source": [
    "Que 5: What is method overriding in python? Write a python code to demonstrate method overriding.\n",
    "\n",
    "Ans:<b><H5> Method overriding </b> It is a feature of object-oriented programming languages where the subclass or child class can provide the program with specific characteristics or a specific implementation process of data provided that are already defined in the parent class or superclass."
   ]
  },
  {
   "cell_type": "code",
   "execution_count": 64,
   "id": "54f3d208-7146-4c60-8bcb-24176711ea77",
   "metadata": {},
   "outputs": [],
   "source": [
    "class parent:\n",
    "    def __init__(self):\n",
    "        self.work=\"Bussiness man\"\n",
    "        \n",
    "    def Occupation(self):\n",
    "        print(self.work)"
   ]
  },
  {
   "cell_type": "code",
   "execution_count": 65,
   "id": "c571e6ed-8fcc-4002-bdec-7b5840dd65ec",
   "metadata": {},
   "outputs": [],
   "source": [
    "class child(parent):\n",
    "    def __init__(self):\n",
    "        self.work=\"Locopilot\"\n",
    "        \n",
    "    def Occupation(self):\n",
    "        print(self.work)"
   ]
  },
  {
   "cell_type": "code",
   "execution_count": 66,
   "id": "29e44d90-f1d9-456a-88aa-6e481fe9cf21",
   "metadata": {},
   "outputs": [],
   "source": [
    "obj_p=parent()"
   ]
  },
  {
   "cell_type": "code",
   "execution_count": 67,
   "id": "6375a8d0-13f8-4d03-a1a4-b9a870eb5c09",
   "metadata": {},
   "outputs": [],
   "source": [
    "obj_c=child()"
   ]
  },
  {
   "cell_type": "code",
   "execution_count": 68,
   "id": "82836d06-6e13-4545-81fc-6c35af1f6ba3",
   "metadata": {},
   "outputs": [
    {
     "name": "stdout",
     "output_type": "stream",
     "text": [
      "Bussiness man\n"
     ]
    }
   ],
   "source": [
    "obj_p.Occupation()"
   ]
  },
  {
   "cell_type": "code",
   "execution_count": 69,
   "id": "a52a95e6-c3bc-4f98-b0f2-84838f88bf3c",
   "metadata": {},
   "outputs": [
    {
     "name": "stdout",
     "output_type": "stream",
     "text": [
      "Locopilot\n"
     ]
    }
   ],
   "source": [
    "obj_c.Occupation()"
   ]
  }
 ],
 "metadata": {
  "kernelspec": {
   "display_name": "Python 3 (ipykernel)",
   "language": "python",
   "name": "python3"
  },
  "language_info": {
   "codemirror_mode": {
    "name": "ipython",
    "version": 3
   },
   "file_extension": ".py",
   "mimetype": "text/x-python",
   "name": "python",
   "nbconvert_exporter": "python",
   "pygments_lexer": "ipython3",
   "version": "3.10.8"
  }
 },
 "nbformat": 4,
 "nbformat_minor": 5
}
