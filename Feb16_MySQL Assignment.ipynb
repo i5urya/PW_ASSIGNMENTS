{
 "cells": [
  {
   "cell_type": "markdown",
   "id": "c3e73e8f-7a65-4732-bdf5-eddc8ecb5a22",
   "metadata": {},
   "source": [
    "Q1. What is a database? Differentiate between SQL and NoSQL databases.\n",
    "\n",
    "Ans: <B>A database</B> is an organized collection of structured information, or data, typically stored electronically in a computer system. A database is usually controlled by a database management system (DBMS).\n",
    "\n",
    "<b><u>Di</u></b>\n",
    "SQL databases are relational, and NoSQL databases are non-relational. \n",
    "\n",
    "SQL databases use structured query language (SQL) and have a predefined schema. NoSQL databases have dynamic schemas for unstructured data. \n",
    "\n",
    "SQL databases are vertically scalable, while NoSQL databases are horizontally scalable."
   ]
  },
  {
   "cell_type": "markdown",
   "id": "f0b84087-9a05-482f-bec2-041696e4ea83",
   "metadata": {},
   "source": [
    "Q2. What is DDL? Explain why CREATE, DROP, ALTER, and TRUNCATE are used with an example.\n",
    "\n",
    "Ans: Data Definition Language(DDL) is a subset of SQL and a part of DBMS(Database Management System). DDL consist of Commands to commands like CREATE, ALTER, TRUNCATE and DROP. These commands are used to create or modify the tables in SQL.\n",
    "\n",
    "CREATE :\n",
    "This command is used to create a new table in SQL. The user has to give information like table name, column names, and their datatypes.\n",
    "\n",
    "ALTER :\n",
    "This command is used to add, delete or change columns in the existing table. The user needs to know the existing table name and can do add, delete or modify tasks easily.\n",
    "\n",
    "TRUNCATE :\n",
    "This command is used to remove all rows from the table, but the structure of the table still exists.\n",
    "\n",
    "DROP :\n",
    "This command is used to remove an existing table along with its structure from the Database."
   ]
  },
  {
   "cell_type": "markdown",
   "id": "59633fd5-a888-4dd2-9bfb-7bf87cefe0a5",
   "metadata": {},
   "source": [
    "CREATE TABLE Student_info\n",
    "(\n",
    "College_Id number(2),\n",
    "College_name varchar(30),\n",
    "Branch varchar(10)\n",
    ");"
   ]
  },
  {
   "cell_type": "markdown",
   "id": "b4324e3c-1328-4919-9d6e-7f0b56c66f4e",
   "metadata": {},
   "source": [
    "ALTER TABLE Student_info\n",
    "ADD CGPA number;"
   ]
  },
  {
   "cell_type": "markdown",
   "id": "20773977-b7a9-4338-9ed4-f5d4f455f803",
   "metadata": {},
   "source": [
    "TRUNCATE TABLE table_name;"
   ]
  },
  {
   "cell_type": "markdown",
   "id": "70809820-5211-48ca-ad60-d9f4bb1f20cb",
   "metadata": {},
   "source": [
    "DROP TABLE table_name;"
   ]
  },
  {
   "cell_type": "markdown",
   "id": "c8632cb7-97bb-442c-acc3-f0bc85030ed0",
   "metadata": {},
   "source": [
    "Q3. What is DML? Explain INSERT, UPDATE, and DELETE with an example\n",
    "Ans: DML is a subset of SQL statements which alter the information stored in tables. As, it mainly concentrates on database performance, as well as it utilizes HDFS (Hadoop Distributed File System) storage’s append-only nature.\n",
    "\n",
    "DML It is a dialect which is used to select, insert, delete and update data in a database.\n",
    "\n",
    "INSERT Command –\n",
    "This command is used to enter the information or values into a row. We can connect one or more records to a single table within a repository using this instruction. This is often used to connect an unused tag to the documents.\n",
    "\n",
    "UPDATE Command –\n",
    "This command is used to alter existing table records. Within a table, it modifies data from one or more records. This command is used to alter the data which is already present in a table.\n",
    "\n",
    "DELETE Command –\n",
    "It deletes all archives from a table. This command is used to erase some or all of the previous table’s records. If we do not specify the ‘WHERE’ condition then all the rows would be erased or deleted.\n"
   ]
  },
  {
   "cell_type": "markdown",
   "id": "32ccaa1a-f745-4174-bc73-30a2c7969aa3",
   "metadata": {},
   "source": [
    "INSERT INTO students ('stu_id' int, 'stu_name' varchar(20), 'city' varchar(20)) VALUES ('1', 'Nirmit', 'Gorakhpur'); "
   ]
  },
  {
   "cell_type": "markdown",
   "id": "db1d033e-f8df-4a3a-9f22-4cd1a2659976",
   "metadata": {},
   "source": [
    "UPDATE students SET due_fees = 20000 WHERE stu_name = 'Mini'; "
   ]
  },
  {
   "cell_type": "markdown",
   "id": "a5943e90-761c-4ef2-bf9b-36296cb398cc",
   "metadata": {},
   "source": [
    "DELETE FROM students WHERE stu_id = '001'; "
   ]
  },
  {
   "cell_type": "markdown",
   "id": "5f5a13ff-f263-43d5-90a0-f99eeb463d6d",
   "metadata": {},
   "source": [
    "Q4. What is DQL? Explain SELECT with an example.\n",
    "\n",
    "Ans: DQL is a portion of a SQL statement that allows you to get and organise data from a database. You can use the SELECT command to extract data from a database in order to perform actions on it. It is the same as the projection operation in relational algebra."
   ]
  },
  {
   "cell_type": "markdown",
   "id": "45cacded-9793-4cd9-bcce-2fc6dda4d05d",
   "metadata": {},
   "source": [
    "SELECT Stu_Name FROM Student WHERE Phone = 9039462908;"
   ]
  },
  {
   "cell_type": "markdown",
   "id": "a8847a93-e3c5-41a3-a84b-d313f5ba55d7",
   "metadata": {},
   "source": [
    "Q5. Explain Primary Key and Foreign Key.\n",
    "\n",
    "Ans: A primary key generally focuses on the uniqueness of the table. It assures the value in the specific column is unique.\n",
    "\n",
    "A foreign key is generally used to build a relationship between the two tables. The table allows only one primary key."
   ]
  },
  {
   "cell_type": "markdown",
   "id": "115ce2b4-8e03-49a2-b9e4-abb73c7821c9",
   "metadata": {},
   "source": [
    "Q6. Write a python code to connect MySQL to python. Explain the cursor() and execute() method.\n",
    "\n",
    "Ans: A cursor is an object which helps to execute the query and fetch the records from the database. \n",
    "Cursors are created by the connection. cursor() method: they are bound to the connection for the entire lifetime and all the commands are executed in the context of the database session wrapped by the connection.\n",
    "\n",
    "Execute() method:This method executes the given database operation (query or command). The parameters found in the tuple or dictionary params are bound to the variables in the operation."
   ]
  },
  {
   "cell_type": "markdown",
   "id": "42bea633-1641-4300-9d4c-62a17e8f7061",
   "metadata": {},
   "source": [
    "import mysql.connector   \n",
    "mydb = mysql.connector.connect(   \n",
    "  host=\"localhost\",\n",
    "  user=\"abc\",\n",
    "  password=\"password\"   \n",
    "  )\n",
    "print(mydb)     \n",
    "mycursor = mydb.cursor()  \n",
    "queries)\n",
    "mycursor.execute(\"CREATE DATABASE if not exists test1\")     \n",
    "mycursor.execute(\"CREATE TABLE if not exists test1.test_table1(C1 INT ,C2 VARCHAR(40),C3 INT,C4 FLOAT,C5 VARCHAR(40))\")\n",
    "mydb.close()  "
   ]
  },
  {
   "cell_type": "markdown",
   "id": "5310eb07-e0dc-4593-a232-0c63a9787212",
   "metadata": {},
   "source": [
    "Q7. Give the order of execution of SQL clauses in an SQL query.\n",
    "\n",
    "Ans :Order         Clause\t               Function\n",
    "\n",
    " 1.\t           FROM\t               Tables are joined to get the base data.\n",
    "\n",
    " 2.\t           WHERE \t             The base data is filtered.\n",
    "\n",
    " 3.\t         GROUP BY \t            The filtered base data is grouped.\n",
    "\n",
    " 4.\t          HAVING \t            The grouped base data is filtered.\n",
    "\n",
    " 5.\t          SELECT \t            The final data is returned.\n",
    " \n",
    " 6.\t         ORDER BY                The final data is sorted.\n",
    "\n",
    " 7.\t          LIMIT\t                 The returned data is limited to row count."
   ]
  }
 ],
 "metadata": {
  "kernelspec": {
   "display_name": "Python 3 (ipykernel)",
   "language": "python",
   "name": "python3"
  },
  "language_info": {
   "codemirror_mode": {
    "name": "ipython",
    "version": 3
   },
   "file_extension": ".py",
   "mimetype": "text/x-python",
   "name": "python",
   "nbconvert_exporter": "python",
   "pygments_lexer": "ipython3",
   "version": "3.10.8"
  }
 },
 "nbformat": 4,
 "nbformat_minor": 5
}
