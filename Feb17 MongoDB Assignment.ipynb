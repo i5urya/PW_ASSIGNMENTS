{
 "cells": [
  {
   "cell_type": "markdown",
   "id": "f0b5c71c-1a8e-485b-a437-99a30bf78463",
   "metadata": {},
   "source": [
    "Q1. What is MongoDB? Explain non-relational databases in short. In which scenarios it is preferred to use\n",
    "MongoDB over SQL databases?\n",
    "\n",
    "Ans: MongoDB, the most popular NoSQL database, is an open-source document-oriented database. The term ‘NoSQL’ means ‘non-relational’. It means that MongoDB isn’t based on the table-like relational database structure but provides an altogether different mechanism for storage and retrieval of data. This format of storage is called BSON ( similar to JSON format). \n",
    "\n",
    "A non-relational database is a database that does not use the tabular schema of rows and columns found in most traditional database systems. Instead, non-relational databases use a storage model that is optimized for the specific requirements of the type of data being stored.\n",
    "\n",
    "In comparison to the SQL server, MongoDB is faster and more scalable. While the SQL server supports JOIN and Global transactions, MongoDB does not. The MS SQL server does not accommodate large amounts of data, however MongoDB does."
   ]
  },
  {
   "cell_type": "markdown",
   "id": "67f38099-1fd4-42d7-9ce5-aa77653a0edc",
   "metadata": {},
   "source": [
    "Q2. State and Explain the features of MongoDB.\n",
    "\n",
    "Ans: Features of MongoDB –\n",
    "\n",
    "\n",
    "1) Schema-less Database: It is the great feature provided by the MongoDB. A Schema-less database means one collection can hold different types of documents in it. Or in other words, in the MongoDB database, a single collection can hold multiple documents and these documents may consist of the different numbers of fields, content, and size. \n",
    "\n",
    "\n",
    "2) Document Oriented: In MongoDB, all the data stored in the documents instead of tables like in RDBMS. In these documents, the data is stored in fields(key-value pair) instead of rows and columns which make the data much more flexible in comparison to RDBMS. \n",
    "\n",
    "\n",
    "3) Indexing: In MongoDB database, every field in the documents is indexed with primary and secondary indices this makes easier and takes less time to get or search data from the pool of the data.\n",
    "\n",
    "\n",
    "4) Scalability: MongoDB provides horizontal scalability with the help of sharding. Sharding means to distribute data on multiple servers, here a large amount of data is partitioned into data chunks using the shard key, and these data chunks are evenly distributed across shards that reside across many physical servers.\n",
    "\n",
    "\n",
    "5) Replication: MongoDB provides high availability and redundancy with the help of replication, it creates multiple copies of the data and sends these copies to a different server so that if one server fails, then the data is retrieved from another server.\n",
    "\n",
    "\n",
    "6) Aggregation: It allows to perform operations on the grouped data and get a single result or computed result. It is similar to the SQL GROUPBY clause. It provides three different aggregations i.e, aggregation pipeline, map-reduce function, and single-purpose aggregation methods\n",
    "\n",
    "\n",
    "7) High Performance: The performance of MongoDB is very high and data persistence as compared to another database due to its features like scalability, indexing, replication, etc."
   ]
  },
  {
   "cell_type": "markdown",
   "id": "dea3da25-5fc7-44fa-89b4-257854d82377",
   "metadata": {},
   "source": [
    "Q3. Write a code to connect MongoDB to Python. Also, create a database and a collection in MongoDB."
   ]
  },
  {
   "cell_type": "code",
   "execution_count": null,
   "id": "a4ea9686-1965-4299-89da-f31b87960dd8",
   "metadata": {},
   "outputs": [],
   "source": [
    "\n",
    "from pymongo.mongo_client import MongoClient\n",
    "\n",
    "uri = \"mongodb+srv://deepagupta:<Engineering>@cluster0.ye7ue2y.mongodb.net/?retryWrites=true&w=majority\"\n",
    "\n",
    "# Create a new client and connect to the server\n",
    "client = MongoClient(uri)\n",
    "\n",
    "# Send a ping to confirm a successful connection\n",
    "try:\n",
    "    client.admin.command('ping')\n",
    "    print(\"Pinged your deployment. You successfully connected to MongoDB!\")\n",
    "except Exception as e:\n",
    "    print(e)"
   ]
  },
  {
   "cell_type": "code",
   "execution_count": null,
   "id": "d97332cf-bada-424c-ab18-7c4e456a7a33",
   "metadata": {},
   "outputs": [],
   "source": [
    "pip install pymongo==3.6"
   ]
  },
  {
   "cell_type": "code",
   "execution_count": null,
   "id": "cff44686-75a1-4baa-bd89-2ab4308e17af",
   "metadata": {},
   "outputs": [],
   "source": [
    "#Make database now\n",
    "uri = \"mongodb+srv://deepagupta35795:<Engineering>@cluster0.ye7ue2y.mongodb.net/?retryWrites=true&w=majority\"\n",
    "client = MongoClient(uri)"
   ]
  },
  {
   "cell_type": "code",
   "execution_count": null,
   "id": "6c7d4617-0040-4d5f-a9ef-43f30b487ea0",
   "metadata": {},
   "outputs": [],
   "source": [
    "db=client['test']    #Database creation"
   ]
  },
  {
   "cell_type": "code",
   "execution_count": null,
   "id": "eb54db46-03aa-4f1b-9ce0-4453ae49af8c",
   "metadata": {},
   "outputs": [],
   "source": [
    "col_name=db['my_record']    #collection creation"
   ]
  },
  {
   "cell_type": "markdown",
   "id": "c1aabda0-76f3-4203-8aaa-40eb6e61fcbf",
   "metadata": {},
   "source": [
    "Q4. Using the database and the collection created in question number 3, write a code to insert one record,\n",
    "and insert many records. Use the find() and find_one() methods to print the inserted record."
   ]
  },
  {
   "cell_type": "code",
   "execution_count": null,
   "id": "ff3cbdbb-0b8f-4602-a1ff-d4eba6bbaa9b",
   "metadata": {},
   "outputs": [],
   "source": [
    "data={\n",
    "    \"name\":\"Deepa\",\n",
    "    \"course\":\"Datascience\",    #data creation as dictionery or json\n",
    "    \"time\":\"Filexible\"\n",
    "}"
   ]
  },
  {
   "cell_type": "code",
   "execution_count": null,
   "id": "4ea3dbf8-a2c0-4e99-b8e2-3efa70d10cbd",
   "metadata": {},
   "outputs": [],
   "source": [
    "col_name.insert_one(data)"
   ]
  },
  {
   "cell_type": "code",
   "execution_count": null,
   "id": "c95eb4f4-305a-42ab-9365-c950e0531a94",
   "metadata": {},
   "outputs": [],
   "source": [
    "col_name.find_one() "
   ]
  },
  {
   "cell_type": "code",
   "execution_count": null,
   "id": "08071870-e034-4045-8a30-17c2ebf71d8c",
   "metadata": {},
   "outputs": [],
   "source": [
    "data2=[\n",
    "    {\"Name\":\"Deepa\",\"Course\":\"Data science\"},\n",
    "    {\"Name\":\"Nancy\",\"Course\":\"Web development\"},\n",
    "    {\"Name\":\"Himanshu\",\"Course\":\"Data Science\"}\n",
    "]"
   ]
  },
  {
   "cell_type": "code",
   "execution_count": null,
   "id": "892c699f-49ca-45c8-8c3d-a74500e8de57",
   "metadata": {},
   "outputs": [],
   "source": [
    "col_name.insert_many(data2)"
   ]
  },
  {
   "cell_type": "code",
   "execution_count": null,
   "id": "da38d8e8-9768-4ab9-8c15-6dbc75b68589",
   "metadata": {},
   "outputs": [],
   "source": [
    "for i in col_name.find():\n",
    "    print(i)"
   ]
  },
  {
   "cell_type": "markdown",
   "id": "cbb14317-3b93-49b2-a23a-c7093a8567dc",
   "metadata": {},
   "source": [
    "Q5. Explain how you can use the find() method to query the MongoDB database. Write a simple code to\n",
    "demonstrate this.\n",
    "\n",
    "Ans: In MongoDB, find() method is used to select documents in a collection and return a cursor to the selected documents. Cursor means a pointer that points to a document, when we use find() method it returns a pointer on the selected documents and returns one by one."
   ]
  },
  {
   "cell_type": "code",
   "execution_count": null,
   "id": "88577065-2369-4620-949c-422c80cf5f48",
   "metadata": {},
   "outputs": [],
   "source": [
    "for i in col_name.find():\n",
    "    print(i)"
   ]
  },
  {
   "cell_type": "code",
   "execution_count": null,
   "id": "95235e65-dee3-4373-8500-15a5ce4e60de",
   "metadata": {},
   "outputs": [],
   "source": [
    "col_name.find_one() "
   ]
  },
  {
   "cell_type": "code",
   "execution_count": null,
   "id": "8d7cef1c-94ff-46e7-a493-d10be8281789",
   "metadata": {},
   "outputs": [],
   "source": [
    "for i in col_name.find('_id':{'$gte':'4'}): # Find where id is greater than and equal to 4\n",
    "    print(i)"
   ]
  },
  {
   "cell_type": "markdown",
   "id": "366ee739-5555-454c-b951-58aabd775b29",
   "metadata": {},
   "source": [
    "Q6. Explain the sort() method. Give an example to demonstrate sorting in MongoDB.\n",
    "\n",
    "Ans: The sort() method specifies the order in which the query returns the matching documents from the given collection. You must apply this method to the cursor before retrieving any documents from the database."
   ]
  },
  {
   "cell_type": "code",
   "execution_count": null,
   "id": "0d16ea5b-8fe6-4367-a0da-4f185f12dc12",
   "metadata": {},
   "outputs": [],
   "source": [
    "db.student.find().sort({age:1})"
   ]
  },
  {
   "cell_type": "code",
   "execution_count": null,
   "id": "11ab0fb8-248c-4410-91d6-928b2c2ebfb1",
   "metadata": {},
   "outputs": [],
   "source": [
    "db.student.find().sort({name:-1})"
   ]
  }
 ],
 "metadata": {
  "kernelspec": {
   "display_name": "Python 3 (ipykernel)",
   "language": "python",
   "name": "python3"
  },
  "language_info": {
   "codemirror_mode": {
    "name": "ipython",
    "version": 3
   },
   "file_extension": ".py",
   "mimetype": "text/x-python",
   "name": "python",
   "nbconvert_exporter": "python",
   "pygments_lexer": "ipython3",
   "version": "3.10.8"
  }
 },
 "nbformat": 4,
 "nbformat_minor": 5
}
