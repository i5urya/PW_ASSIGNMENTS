{
 "cells": [
  {
   "cell_type": "markdown",
   "id": "9f9f4bbf-7e52-447c-953a-9cad19e4873d",
   "metadata": {},
   "source": [
    "Q1. What is an API? Give an example, where an API is used in real life\n",
    "\n",
    "Ans: An API is a communication interface that allows two separate software components to share data. An API operates as a bridge between internal and external software operations, allowing for a fluid interchange of data that frequently passes undetected by the end-user. APIs are used in web applications to connect user-facing front ends with critical back-end functionality and data. APIs are used to deliver material by streaming services such as Spotify and Netflix. APIs are used by automakers such as Tesla to provide software upgrades.\n",
    "\n",
    "1) Private APIs are used by financial organizations such as banks to track and manage checking accounts, credit cards, and other accounts.\n",
    "\n",
    "2) APIs are used by retail companies to connect with courier networks, ensuring that shipments are picked up as soon as possible and tracked as they move.\n",
    "\n",
    "3) APIs are used in web applications to connect user-facing front ends with critical back-end functionality and data.\n",
    "\n",
    "4) APIs are used to deliver material by streaming services such as Spotify and Netflix.\n",
    "\n",
    "5) APIs are used by automakers such as Tesla to provide software upgrades. Others utilize APIs to make automotive data available to third parties."
   ]
  },
  {
   "cell_type": "markdown",
   "id": "96cfcc80-adba-4574-a684-0dcdcc72be26",
   "metadata": {},
   "source": [
    "Q2. Give advantages and disadvantages of using API.\n",
    "\n",
    "Ans:\n",
    "Advantages:\n",
    "\n",
    "The major benefit of using an API is accessing and consuming data and services from thousands of independent sources. This means organizations of all sizes can access these functionalities without developing their own specialized applications.\n",
    "\n",
    "1) APIs increase business agility. By abstracting away the underlying complexity of a service and presenting it as a product, APIs give organizations secure access to data, services, and operating systems that drive innovation for internal partners and third-party consumers.\n",
    "\n",
    "\n",
    "2) When built well, APIs enable developers to be more productive by allowing them to reuse an existing API rather than building new code each time.\n",
    "\n",
    "3) The language-independent nature of APIs enables rapid development and deployment of small, modular applications. APIs can also leverage a vast range of already-built third-party services and data sources.\n",
    "\n",
    "4) Another benefit of APIs is related to API monetization. Organizations developing APIs for public consumption can offer a free tier for regular usage, but they can also charge if callers reach certain request counts or want access to premium API features or endpoints."
   ]
  },
  {
   "cell_type": "markdown",
   "id": "a4f6c740-2705-4393-a391-524557b65c2a",
   "metadata": {},
   "source": [
    "Q3. What is a Web API? Differentiate between API and Web API.\n",
    "\n",
    "Ans: Web API is an extensible framework for building HTTP based services that can be accessed in different applications on different platforms such as web, windows, mobile etc. \n",
    "Whenever we are trying to do some heterogeneous application access or transaction through http or web then is called web API\n",
    "\n",
    "API is an interface that exposes an application's data to outside software, whereas web applications are one type of API with stricter requirements. We create API using tcp,smtp,http protocols \n",
    "\n",
    "Whenever we are trying to do some heterogeneous application access or transaction through http or web then is called web API.We create Web API using http protocol only "
   ]
  },
  {
   "cell_type": "markdown",
   "id": "3b6ecb09-fac3-47ed-8300-abf9d80dcaa9",
   "metadata": {},
   "source": [
    "Q4. Explain REST and SOAP Architecture. Mention shortcomings of SOAP.\n",
    "\n",
    "Ans: \n",
    "\n",
    "REST is a software architectural style that defines the set of rules to be used for creating web services. Web services which follow the REST architectural style are known as RESTful web services. It allows requesting systems to access and manipulate web resources by using a uniform and predefined set of rules. Interaction in REST based systems happen through Internet’s Hypertext Transfer Protocol (HTTP). \n",
    "\n",
    "The SOAP web services architecture is based on interactions between three components: a service provider, a service requester, and an optional service registry. A SOAP message is encoded as an XML document, consisting of an Envelope element, which contains an optional Header element, and a mandatory Body element.\n",
    "\n",
    "Since SOAP is a protocol, it follows a strict standard to allow communication between the client and the server whereas REST is an architectural style that doesn’t follow any strict standard but follows six constraints: Uniform Interface, Client-Server, Stateless, Cacheable, Layered System, Code on Demand.\n",
    "\n",
    "SOAP is difficult to implement and it requires more bandwidth whereas REST is easy to implement and requires less bandwidth such as smartphones."
   ]
  },
  {
   "cell_type": "markdown",
   "id": "4e763498-07a0-47af-a99b-0ced0aff0cc8",
   "metadata": {},
   "source": [
    "Q5. Differentiate between REST and SOAP.\n",
    "\n",
    "Ans: \n",
    "            SOAP API                                                  REST API\n",
    "\n",
    "1) Relies on SOAP (Simple Object                         Relies on REST (Representational State Transfer) \n",
    "   Access Protocol)\t                                        architecture using HTTP.\n",
    "\n",
    "2) Transports data in standard XML format.\t            Generally transports data in JSON. It is based on URI.                                                              Because REST follows stateless model, REST does not enforces                                                                message format as XML or JSON etc.\n",
    "\n",
    "3) Because it is XML based and relies on \t                    It works with GET, POST, PUT, DELETE\n",
    "   SOAP, it works with WSDL\n",
    "\n",
    "4) Works over HTTP, HTTPS, SMTP, XMPP                           \tWorks over HTTP and HTTPS\n",
    "\n",
    "5) Highly structured/typed\t                                    Less structured -> less bulky data\n",
    "\n",
    "6) Designed with large enterprise                       \tDesigned with mobile devices in mind\n",
    "   applications in mind"
   ]
  }
 ],
 "metadata": {
  "kernelspec": {
   "display_name": "Python 3 (ipykernel)",
   "language": "python",
   "name": "python3"
  },
  "language_info": {
   "codemirror_mode": {
    "name": "ipython",
    "version": 3
   },
   "file_extension": ".py",
   "mimetype": "text/x-python",
   "name": "python",
   "nbconvert_exporter": "python",
   "pygments_lexer": "ipython3",
   "version": "3.10.8"
  }
 },
 "nbformat": 4,
 "nbformat_minor": 5
}
